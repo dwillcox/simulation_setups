{
 "cells": [
  {
   "cell_type": "code",
   "execution_count": 3,
   "metadata": {
    "collapsed": false
   },
   "outputs": [
    {
     "name": "stdout",
     "output_type": "stream",
     "text": [
      "Using matplotlib backend: agg\n",
      "Populating the interactive namespace from numpy and matplotlib\n"
     ]
    }
   ],
   "source": [
    "%pylab"
   ]
  },
  {
   "cell_type": "code",
   "execution_count": 15,
   "metadata": {
    "collapsed": true
   },
   "outputs": [],
   "source": [
    "file = 'WD_urca_nuc_M-0.5_hot.hse.2560'\n",
    "Msun = 1.988435e33 # grams"
   ]
  },
  {
   "cell_type": "code",
   "execution_count": 10,
   "metadata": {
    "collapsed": false
   },
   "outputs": [],
   "source": [
    "# Open the MAESTRO initial model file and make its data available in the 'data' dictionary,\n",
    "# indexed by variable name from the model file.\n",
    "f = open(file, 'r')\n",
    "nstr = f.readline().strip()\n",
    "npts  = int(nstr.split()[-1])\n",
    "nvarstr = f.readline().strip()\n",
    "nvar = int(nvarstr.split()[-1])\n",
    "\n",
    "colnames = ['radius']\n",
    "\n",
    "for i in range(nvar):\n",
    "    cstr = f.readline().strip()\n",
    "    cname = cstr[2:]\n",
    "    colnames.append(cname)\n",
    "\n",
    "ncols = len(colnames)\n",
    "\n",
    "def getlinedata(f):\n",
    "    l = f.readline()\n",
    "    ls = l.strip().split()\n",
    "    a = [float(x) for x in ls]\n",
    "    na = len(a)\n",
    "    return na, a\n",
    "\n",
    "data = {}\n",
    "for c in colnames:\n",
    "    data[c] = []\n",
    "for i in range(npts):\n",
    "    nd, d = getlinedata(f)\n",
    "    while nd < ncols:\n",
    "        nd2, d2 = getlinedata(f)\n",
    "        nd = nd + nd2\n",
    "        for x in d2:\n",
    "            d.append(x)\n",
    "    for c, x in zip(colnames, d):\n",
    "        data[c].append(x)\n",
    "\n",
    "for c in colnames:\n",
    "    data[c] = array(data[c])"
   ]
  },
  {
   "cell_type": "code",
   "execution_count": 13,
   "metadata": {
    "collapsed": false
   },
   "outputs": [
    {
     "name": "stdout",
     "output_type": "stream",
     "text": [
      "13 dict_keys(['density', 'magnesium-23', 'sodium-23', 'neutron', 'hydrogen', 'neon-23', 'helium-4', 'carbon-12', 'temperature', 'pressure', 'neon-20', 'radius', 'oxygen-16'])\n"
     ]
    }
   ],
   "source": [
    "print(len(data.keys()), data.keys())"
   ]
  },
  {
   "cell_type": "code",
   "execution_count": 17,
   "metadata": {
    "collapsed": true
   },
   "outputs": [],
   "source": [
    "# Add mass coordinate to dataset\n",
    "dx = data['radius'][1]-data['radius'][0]\n",
    "data['zone_xhi'] = data['radius']+0.5*dx\n",
    "data['zone_xlo'] = data['radius']-0.5*dx\n",
    "data['zone_mass'] = data['density']*(data['zone_xhi']**3 - data['zone_xlo']**3)*4.0*pi/3.0\n",
    "data['mass'] = cumsum(data['zone_mass'])/Msun"
   ]
  },
  {
   "cell_type": "code",
   "execution_count": 23,
   "metadata": {
    "collapsed": false
   },
   "outputs": [
    {
     "name": "stderr",
     "output_type": "stream",
     "text": [
      "/home/eugene/anaconda23/envs/py3/lib/python3.5/site-packages/matplotlib/pyplot.py:516: RuntimeWarning: More than 20 figures have been opened. Figures created through the pyplot interface (`matplotlib.pyplot.figure`) are retained until explicitly closed and may consume too much memory. (To control this warning, see the rcParam `figure.max_open_warning`).\n",
      "  max_open_warning, RuntimeWarning)\n",
      "/home/eugene/anaconda23/envs/py3/lib/python3.5/site-packages/matplotlib/axes/_base.py:3045: UserWarning: Attempting to set identical bottom==top results\n",
      "in singular transformations; automatically expanding.\n",
      "bottom=0.0, top=0.0\n",
      "  'bottom=%s, top=%s') % (bottom, top))\n",
      "/home/eugene/anaconda23/envs/py3/lib/python3.5/site-packages/matplotlib/axes/_base.py:3045: UserWarning: Attempting to set identical bottom==top results\n",
      "in singular transformations; automatically expanding.\n",
      "bottom=0.39975, top=0.39975\n",
      "  'bottom=%s, top=%s') % (bottom, top))\n",
      "/home/eugene/anaconda23/envs/py3/lib/python3.5/site-packages/matplotlib/axes/_base.py:3045: UserWarning: Attempting to set identical bottom==top results\n",
      "in singular transformations; automatically expanding.\n",
      "bottom=0.59975, top=0.59975\n",
      "  'bottom=%s, top=%s') % (bottom, top))\n",
      "/home/eugene/anaconda23/envs/py3/lib/python3.5/site-packages/matplotlib/axes/_base.py:3045: UserWarning: Attempting to set identical bottom==top results\n",
      "in singular transformations; automatically expanding.\n",
      "bottom=0.0005, top=0.0005\n",
      "  'bottom=%s, top=%s') % (bottom, top))\n"
     ]
    }
   ],
   "source": [
    "# Plot each variable versus the mass coordinate\n",
    "for c in colnames:\n",
    "    d = data[c]\n",
    "    m = data['mass']\n",
    "    subplots()\n",
    "    plot(m,d,'bo')\n",
    "    xlabel('Mass ($M_\\\\odot$)')\n",
    "    ylim(amin(d), amax(d))\n",
    "    ylabel(c)\n",
    "    tight_layout()\n",
    "    savefig(c.replace(' ','_')+'.eps')\n",
    "    clf()"
   ]
  },
  {
   "cell_type": "code",
   "execution_count": null,
   "metadata": {
    "collapsed": true
   },
   "outputs": [],
   "source": []
  }
 ],
 "metadata": {
  "kernelspec": {
   "display_name": "Python 3",
   "language": "python",
   "name": "python3"
  },
  "language_info": {
   "codemirror_mode": {
    "name": "ipython",
    "version": 3
   },
   "file_extension": ".py",
   "mimetype": "text/x-python",
   "name": "python",
   "nbconvert_exporter": "python",
   "pygments_lexer": "ipython3",
   "version": "3.5.1"
  }
 },
 "nbformat": 4,
 "nbformat_minor": 0
}
